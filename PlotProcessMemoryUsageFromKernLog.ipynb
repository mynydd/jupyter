{
 "cells": [
  {
   "cell_type": "raw",
   "metadata": {},
   "source": [
    "library(ggplot2)"
   ]
  },
  {
   "cell_type": "code",
   "execution_count": null,
   "metadata": {},
   "outputs": [],
   "source": [
    "require(scales)"
   ]
  },
  {
   "cell_type": "code",
   "execution_count": 3,
   "metadata": {},
   "outputs": [
    {
     "name": "stderr",
     "output_type": "stream",
     "text": [
      "Registered S3 methods overwritten by 'ggplot2':\n",
      "  method         from \n",
      "  [.quosures     rlang\n",
      "  c.quosures     rlang\n",
      "  print.quosures rlang\n",
      "Registered S3 method overwritten by 'rvest':\n",
      "  method            from\n",
      "  read_xml.response xml2\n",
      "-- Attaching packages --------------------------------------- tidyverse 1.2.1 --\n",
      "v ggplot2 3.1.1       v purrr   0.3.2  \n",
      "v tibble  2.1.1       v dplyr   0.8.0.1\n",
      "v tidyr   0.8.3       v stringr 1.4.0  \n",
      "v readr   1.3.1       v forcats 0.4.0  \n",
      "-- Conflicts ------------------------------------------ tidyverse_conflicts() --\n",
      "x dplyr::filter() masks stats::filter()\n",
      "x dplyr::lag()    masks stats::lag()\n"
     ]
    }
   ],
   "source": [
    "library(tidyverse)"
   ]
  },
  {
   "cell_type": "code",
   "execution_count": 1,
   "metadata": {},
   "outputs": [
    {
     "ename": "ERROR",
     "evalue": "Error in setwd(paste(getwd(), \"github/jupyter/\", sep = \"/\")): cannot change working directory\n",
     "output_type": "error",
     "traceback": [
      "Error in setwd(paste(getwd(), \"github/jupyter/\", sep = \"/\")): cannot change working directory\nTraceback:\n",
      "1. setwd(paste(getwd(), \"github/jupyter/\", sep = \"/\"))"
     ]
    }
   ],
   "source": [
    "setwd(paste(getwd(), \"github/jupyter/\", sep=\"/\"))\n",
    "getwd()"
   ]
  },
  {
   "cell_type": "code",
   "execution_count": 2,
   "metadata": {},
   "outputs": [],
   "source": [
    "# Make a copy of /var/log/kern.log\n",
    "# Delete all lines in the copy except for the process table\n",
    "# Strip '[' and ']' characters\n",
    "# Then load it:\n",
    "t<-read.table('kern.log', header=T)"
   ]
  },
  {
   "cell_type": "code",
   "execution_count": 11,
   "metadata": {},
   "outputs": [],
   "source": [
    "t$uniqueName <- paste(t$name,t$pid,sep=\"/\")"
   ]
  },
  {
   "cell_type": "code",
   "execution_count": 45,
   "metadata": {},
   "outputs": [],
   "source": [
    "tFiltered <- t %>% filter(total_vm > 100000) # Don't bother with rows for which VM size is insignificant\n",
    "plot2<-ggplot(tFiltered, aes(x=reorder(uniqueName, total_vm),y=total_vm)) + \n",
    "    geom_bar(stat=\"identity\") + \n",
    "    scale_y_continuous(labels=comma) + # to avoid scientific notation on the axis showing VM size\n",
    "    coord_flip() + \n",
    "    labs(title=\"Process Virtual Memory Use\", x=\"Process\", y=\"total vm size (in 4kB pages)\")"
   ]
  },
  {
   "cell_type": "code",
   "execution_count": 46,
   "metadata": {},
   "outputs": [
    {
     "data": {
      "image/png": "[encoded data removed]",
      "text/plain": [
       "plot without title"
      ]
     },
     "metadata": {},
     "output_type": "display_data"
    }
   ],
   "source": [
    "print(plot2)"
   ]
  },
  {
   "cell_type": "code",
   "execution_count": 47,
   "metadata": {},
   "outputs": [
    {
     "name": "stderr",
     "output_type": "stream",
     "text": [
      "Saving 6.67 x 6.67 in image\n"
     ]
    }
   ],
   "source": [
    "ggsave(\"process_vm_size.png\", plot=plot2)"
   ]
  }
 ],
 "metadata": {
  "kernelspec": {
   "display_name": "R",
   "language": "R",
   "name": "ir"
  },
  "language_info": {
   "codemirror_mode": "r",
   "file_extension": ".r",
   "mimetype": "text/x-r-source",
   "name": "R",
   "pygments_lexer": "r",
   "version": "3.6.1"
  }
 },
 "nbformat": 4,
 "nbformat_minor": 2
}
